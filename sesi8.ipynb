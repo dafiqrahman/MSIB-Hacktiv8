{
 "cells": [
  {
   "cell_type": "code",
   "execution_count": 1,
   "metadata": {},
   "outputs": [
    {
     "ename": "ModuleNotFoundError",
     "evalue": "No module named 'numpy'",
     "output_type": "error",
     "traceback": [
      "\u001b[1;31m---------------------------------------------------------------------------\u001b[0m",
      "\u001b[1;31mModuleNotFoundError\u001b[0m                       Traceback (most recent call last)",
      "\u001b[1;32mc:\\Users\\Thinkpad Yoga\\kmi-batch-5\\sesi8.ipynb Cell 1\u001b[0m line \u001b[0;36m1\n\u001b[1;32m----> <a href='vscode-notebook-cell:/c%3A/Users/Thinkpad%20Yoga/kmi-batch-5/sesi8.ipynb#W0sZmlsZQ%3D%3D?line=0'>1</a>\u001b[0m \u001b[39mimport\u001b[39;00m \u001b[39mnumpy\u001b[39;00m \u001b[39mas\u001b[39;00m \u001b[39mnp\u001b[39;00m\n",
      "\u001b[1;31mModuleNotFoundError\u001b[0m: No module named 'numpy'"
     ]
    }
   ],
   "source": [
    "import numpy as np"
   ]
  },
  {
   "cell_type": "code",
   "execution_count": 4,
   "metadata": {},
   "outputs": [
    {
     "name": "stdout",
     "output_type": "stream",
     "text": [
      "Collecting pillow\n",
      "  Obtaining dependency information for pillow from https://files.pythonhosted.org/packages/54/9b/debe992677af84859ec1e38777b1d5c0671918188324153ecbc1f16f6cb6/Pillow-10.0.1-cp311-cp311-win_amd64.whl.metadata\n",
      "  Downloading Pillow-10.0.1-cp311-cp311-win_amd64.whl.metadata (9.6 kB)\n",
      "Downloading Pillow-10.0.1-cp311-cp311-win_amd64.whl (2.5 MB)\n",
      "   ---------------------------------------- 0.0/2.5 MB ? eta -:--:--\n",
      "   ---------------------------------------- 0.0/2.5 MB ? eta -:--:--\n",
      "    --------------------------------------- 0.0/2.5 MB 487.6 kB/s eta 0:00:06\n",
      "    --------------------------------------- 0.1/2.5 MB 465.5 kB/s eta 0:00:06\n",
      "   - -------------------------------------- 0.1/2.5 MB 476.3 kB/s eta 0:00:06\n",
      "   - -------------------------------------- 0.1/2.5 MB 514.3 kB/s eta 0:00:05\n",
      "   -- ------------------------------------- 0.2/2.5 MB 510.2 kB/s eta 0:00:05\n",
      "   --- ------------------------------------ 0.2/2.5 MB 562.0 kB/s eta 0:00:05\n",
      "   --- ------------------------------------ 0.2/2.5 MB 576.2 kB/s eta 0:00:04\n",
      "   ---- ----------------------------------- 0.3/2.5 MB 630.9 kB/s eta 0:00:04\n",
      "   ----- ---------------------------------- 0.3/2.5 MB 655.0 kB/s eta 0:00:04\n",
      "   ------ --------------------------------- 0.4/2.5 MB 713.5 kB/s eta 0:00:03\n",
      "   ------- -------------------------------- 0.5/2.5 MB 761.8 kB/s eta 0:00:03\n",
      "   -------- ------------------------------- 0.5/2.5 MB 782.8 kB/s eta 0:00:03\n",
      "   --------- ------------------------------ 0.6/2.5 MB 818.6 kB/s eta 0:00:03\n",
      "   --------- ------------------------------ 0.6/2.5 MB 840.3 kB/s eta 0:00:03\n",
      "   ---------- ----------------------------- 0.6/2.5 MB 812.9 kB/s eta 0:00:03\n",
      "   ---------- ----------------------------- 0.7/2.5 MB 803.9 kB/s eta 0:00:03\n",
      "   ----------- ---------------------------- 0.7/2.5 MB 784.1 kB/s eta 0:00:03\n",
      "   ----------- ---------------------------- 0.7/2.5 MB 775.1 kB/s eta 0:00:03\n",
      "   ------------ --------------------------- 0.8/2.5 MB 771.4 kB/s eta 0:00:03\n",
      "   ------------ --------------------------- 0.8/2.5 MB 754.8 kB/s eta 0:00:03\n",
      "   ------------ --------------------------- 0.8/2.5 MB 740.9 kB/s eta 0:00:03\n",
      "   ------------- -------------------------- 0.8/2.5 MB 728.8 kB/s eta 0:00:03\n",
      "   ------------- -------------------------- 0.8/2.5 MB 698.0 kB/s eta 0:00:03\n",
      "   ------------- -------------------------- 0.9/2.5 MB 696.5 kB/s eta 0:00:03\n",
      "   -------------- ------------------------- 0.9/2.5 MB 695.6 kB/s eta 0:00:03\n",
      "   -------------- ------------------------- 0.9/2.5 MB 686.3 kB/s eta 0:00:03\n",
      "   --------------- ------------------------ 1.0/2.5 MB 685.1 kB/s eta 0:00:03\n",
      "   --------------- ------------------------ 1.0/2.5 MB 684.6 kB/s eta 0:00:03\n",
      "   --------------- ------------------------ 1.0/2.5 MB 655.1 kB/s eta 0:00:03\n",
      "   ---------------- ----------------------- 1.0/2.5 MB 655.5 kB/s eta 0:00:03\n",
      "   ---------------- ----------------------- 1.0/2.5 MB 648.9 kB/s eta 0:00:03\n",
      "   ---------------- ----------------------- 1.0/2.5 MB 636.5 kB/s eta 0:00:03\n",
      "   ----------------- ---------------------- 1.1/2.5 MB 630.9 kB/s eta 0:00:03\n",
      "   ----------------- ---------------------- 1.1/2.5 MB 620.3 kB/s eta 0:00:03\n",
      "   ----------------- ---------------------- 1.1/2.5 MB 621.0 kB/s eta 0:00:03\n",
      "   ------------------ --------------------- 1.1/2.5 MB 611.1 kB/s eta 0:00:03\n",
      "   ------------------ --------------------- 1.1/2.5 MB 611.1 kB/s eta 0:00:03\n",
      "   ------------------ --------------------- 1.1/2.5 MB 611.1 kB/s eta 0:00:03\n",
      "   ------------------ --------------------- 1.2/2.5 MB 592.9 kB/s eta 0:00:03\n",
      "   ------------------- -------------------- 1.2/2.5 MB 580.3 kB/s eta 0:00:03\n",
      "   ------------------- -------------------- 1.2/2.5 MB 572.1 kB/s eta 0:00:03\n",
      "   ------------------- -------------------- 1.2/2.5 MB 565.7 kB/s eta 0:00:03\n",
      "   -------------------- ------------------- 1.3/2.5 MB 563.0 kB/s eta 0:00:03\n",
      "   -------------------- ------------------- 1.3/2.5 MB 557.2 kB/s eta 0:00:03\n",
      "   -------------------- ------------------- 1.3/2.5 MB 554.8 kB/s eta 0:00:03\n",
      "   --------------------- ------------------ 1.3/2.5 MB 548.2 kB/s eta 0:00:03\n",
      "   --------------------- ------------------ 1.3/2.5 MB 548.2 kB/s eta 0:00:03\n",
      "   --------------------- ------------------ 1.3/2.5 MB 539.2 kB/s eta 0:00:03\n",
      "   --------------------- ------------------ 1.4/2.5 MB 538.1 kB/s eta 0:00:03\n",
      "   ---------------------- ----------------- 1.4/2.5 MB 539.4 kB/s eta 0:00:03\n",
      "   ---------------------- ----------------- 1.4/2.5 MB 533.6 kB/s eta 0:00:03\n",
      "   ----------------------- ---------------- 1.5/2.5 MB 537.1 kB/s eta 0:00:02\n",
      "   ----------------------- ---------------- 1.5/2.5 MB 542.3 kB/s eta 0:00:02\n",
      "   ------------------------ --------------- 1.5/2.5 MB 548.6 kB/s eta 0:00:02\n",
      "   ------------------------- -------------- 1.6/2.5 MB 564.9 kB/s eta 0:00:02\n",
      "   -------------------------- ------------- 1.6/2.5 MB 569.9 kB/s eta 0:00:02\n",
      "   --------------------------- ------------ 1.7/2.5 MB 581.4 kB/s eta 0:00:02\n",
      "   ---------------------------- ----------- 1.8/2.5 MB 590.0 kB/s eta 0:00:02\n",
      "   ----------------------------- ---------- 1.8/2.5 MB 598.0 kB/s eta 0:00:02\n",
      "   ------------------------------ --------- 1.9/2.5 MB 612.1 kB/s eta 0:00:02\n",
      "   ------------------------------- -------- 2.0/2.5 MB 622.6 kB/s eta 0:00:01\n",
      "   -------------------------------- ------- 2.0/2.5 MB 636.0 kB/s eta 0:00:01\n",
      "   --------------------------------- ------ 2.1/2.5 MB 645.8 kB/s eta 0:00:01\n",
      "   ---------------------------------- ----- 2.2/2.5 MB 661.6 kB/s eta 0:00:01\n",
      "   ----------------------------------- ---- 2.2/2.5 MB 670.7 kB/s eta 0:00:01\n",
      "   ------------------------------------ --- 2.3/2.5 MB 685.7 kB/s eta 0:00:01\n",
      "   ------------------------------------- -- 2.4/2.5 MB 694.2 kB/s eta 0:00:01\n",
      "   ---------------------------------------  2.5/2.5 MB 711.7 kB/s eta 0:00:01\n",
      "   ---------------------------------------  2.5/2.5 MB 716.9 kB/s eta 0:00:01\n",
      "   ---------------------------------------- 2.5/2.5 MB 709.0 kB/s eta 0:00:00\n",
      "Installing collected packages: pillow\n",
      "Successfully installed pillow-10.0.1\n"
     ]
    }
   ],
   "source": [
    "!pip install pillow"
   ]
  },
  {
   "cell_type": "code",
   "execution_count": 5,
   "metadata": {},
   "outputs": [],
   "source": [
    "import numpy as np\n",
    "import pandas as pd \n",
    "from PIL import Image #converting images into arrays\n"
   ]
  },
  {
   "cell_type": "code",
   "execution_count": 6,
   "metadata": {},
   "outputs": [],
   "source": [
    "import plotly.express as px"
   ]
  },
  {
   "cell_type": "code",
   "execution_count": 7,
   "metadata": {},
   "outputs": [
    {
     "name": "stderr",
     "output_type": "stream",
     "text": [
      "Matplotlib is building the font cache; this may take a moment.\n"
     ]
    }
   ],
   "source": [
    "import seaborn as sns"
   ]
  },
  {
   "cell_type": "code",
   "execution_count": 8,
   "metadata": {},
   "outputs": [
    {
     "name": "stdout",
     "output_type": "stream",
     "text": [
      "Collecting folium\n",
      "  Downloading folium-0.14.0-py2.py3-none-any.whl (102 kB)\n",
      "     ---------------------------------------- 0.0/102.3 kB ? eta -:--:--\n",
      "     ---- ----------------------------------- 10.2/102.3 kB ? eta -:--:--\n",
      "     ---- ----------------------------------- 10.2/102.3 kB ? eta -:--:--\n",
      "     ---- ----------------------------------- 10.2/102.3 kB ? eta -:--:--\n",
      "     ----------- ------------------------- 30.7/102.3 kB 163.8 kB/s eta 0:00:01\n",
      "     ----------- ------------------------- 30.7/102.3 kB 163.8 kB/s eta 0:00:01\n",
      "     ----------- ------------------------- 30.7/102.3 kB 163.8 kB/s eta 0:00:01\n",
      "     ----------- ------------------------- 30.7/102.3 kB 163.8 kB/s eta 0:00:01\n",
      "     --------------- ---------------------- 41.0/102.3 kB 98.1 kB/s eta 0:00:01\n",
      "     --------------- ---------------------- 41.0/102.3 kB 98.1 kB/s eta 0:00:01\n",
      "     --------------- ---------------------- 41.0/102.3 kB 98.1 kB/s eta 0:00:01\n",
      "     ------------------------- ----------- 71.7/102.3 kB 131.0 kB/s eta 0:00:01\n",
      "     ------------------------- ----------- 71.7/102.3 kB 131.0 kB/s eta 0:00:01\n",
      "     ------------------------- ----------- 71.7/102.3 kB 131.0 kB/s eta 0:00:01\n",
      "     ------------------------------------ 102.3/102.3 kB 150.9 kB/s eta 0:00:00\n",
      "Collecting branca>=0.6.0 (from folium)\n",
      "  Downloading branca-0.6.0-py3-none-any.whl (24 kB)\n",
      "Collecting jinja2>=2.9 (from folium)\n",
      "  Downloading Jinja2-3.1.2-py3-none-any.whl (133 kB)\n",
      "     ---------------------------------------- 0.0/133.1 kB ? eta -:--:--\n",
      "     -------- ---------------------------- 30.7/133.1 kB 660.6 kB/s eta 0:00:01\n",
      "     ------------------- ----------------- 71.7/133.1 kB 787.7 kB/s eta 0:00:01\n",
      "     --------------------------- -------- 102.4/133.1 kB 991.0 kB/s eta 0:00:01\n",
      "     ------------------------------------ 133.1/133.1 kB 787.6 kB/s eta 0:00:00\n",
      "Requirement already satisfied: numpy in c:\\users\\thinkpad yoga\\.conda\\envs\\hacktiv8\\lib\\site-packages (from folium) (1.26.0)\n",
      "Collecting requests (from folium)\n",
      "  Obtaining dependency information for requests from https://files.pythonhosted.org/packages/70/8e/0e2d847013cb52cd35b38c009bb167a1a26b2ce6cd6965bf26b47bc0bf44/requests-2.31.0-py3-none-any.whl.metadata\n",
      "  Downloading requests-2.31.0-py3-none-any.whl.metadata (4.6 kB)\n",
      "Collecting MarkupSafe>=2.0 (from jinja2>=2.9->folium)\n",
      "  Obtaining dependency information for MarkupSafe>=2.0 from https://files.pythonhosted.org/packages/be/bb/08b85bc194034efbf572e70c3951549c8eca0ada25363afc154386b5390a/MarkupSafe-2.1.3-cp311-cp311-win_amd64.whl.metadata\n",
      "  Downloading MarkupSafe-2.1.3-cp311-cp311-win_amd64.whl.metadata (3.1 kB)\n",
      "Collecting charset-normalizer<4,>=2 (from requests->folium)\n",
      "  Obtaining dependency information for charset-normalizer<4,>=2 from https://files.pythonhosted.org/packages/91/6e/db0e545302bf93b6dbbdc496dd192c7f8e8c3bb1584acba069256d8b51d4/charset_normalizer-3.2.0-cp311-cp311-win_amd64.whl.metadata\n",
      "  Downloading charset_normalizer-3.2.0-cp311-cp311-win_amd64.whl.metadata (31 kB)\n",
      "Collecting idna<4,>=2.5 (from requests->folium)\n",
      "  Downloading idna-3.4-py3-none-any.whl (61 kB)\n",
      "     ---------------------------------------- 0.0/61.5 kB ? eta -:--:--\n",
      "     ---------------------------------------  61.4/61.5 kB 1.7 MB/s eta 0:00:01\n",
      "     ---------------------------------------- 61.5/61.5 kB 1.1 MB/s eta 0:00:00\n",
      "Collecting urllib3<3,>=1.21.1 (from requests->folium)\n",
      "  Obtaining dependency information for urllib3<3,>=1.21.1 from https://files.pythonhosted.org/packages/37/dc/399e63f5d1d96bb643404ee830657f4dfcf8503f5ba8fa3c6d465d0c57fe/urllib3-2.0.5-py3-none-any.whl.metadata\n",
      "  Downloading urllib3-2.0.5-py3-none-any.whl.metadata (6.6 kB)\n",
      "Collecting certifi>=2017.4.17 (from requests->folium)\n",
      "  Obtaining dependency information for certifi>=2017.4.17 from https://files.pythonhosted.org/packages/4c/dd/2234eab22353ffc7d94e8d13177aaa050113286e93e7b40eae01fbf7c3d9/certifi-2023.7.22-py3-none-any.whl.metadata\n",
      "  Downloading certifi-2023.7.22-py3-none-any.whl.metadata (2.2 kB)\n",
      "Downloading requests-2.31.0-py3-none-any.whl (62 kB)\n",
      "   ---------------------------------------- 0.0/62.6 kB ? eta -:--:--\n",
      "   ---------------------------------------  61.4/62.6 kB 3.2 MB/s eta 0:00:01\n",
      "   ---------------------------------------- 62.6/62.6 kB 1.1 MB/s eta 0:00:00\n",
      "Downloading certifi-2023.7.22-py3-none-any.whl (158 kB)\n",
      "   ---------------------------------------- 0.0/158.3 kB ? eta -:--:--\n",
      "   ------- -------------------------------- 30.7/158.3 kB 1.3 MB/s eta 0:00:01\n",
      "   ----------------------- ---------------- 92.2/158.3 kB 1.1 MB/s eta 0:00:01\n",
      "   ---------------------------------------- 158.3/158.3 kB 1.2 MB/s eta 0:00:00\n",
      "Downloading charset_normalizer-3.2.0-cp311-cp311-win_amd64.whl (96 kB)\n",
      "   ---------------------------------------- 0.0/96.6 kB ? eta -:--:--\n",
      "   ------------ --------------------------- 30.7/96.6 kB 1.3 MB/s eta 0:00:01\n",
      "   ---------------- ----------------------- 41.0/96.6 kB 653.6 kB/s eta 0:00:01\n",
      "   -------------------------------------- - 92.2/96.6 kB 655.4 kB/s eta 0:00:01\n",
      "   ---------------------------------------- 96.6/96.6 kB 549.8 kB/s eta 0:00:00\n",
      "Downloading MarkupSafe-2.1.3-cp311-cp311-win_amd64.whl (17 kB)\n",
      "Downloading urllib3-2.0.5-py3-none-any.whl (123 kB)\n",
      "   ---------------------------------------- 0.0/123.8 kB ? eta -:--:--\n",
      "   --- ------------------------------------ 10.2/123.8 kB ? eta -:--:--\n",
      "   ------------ -------------------------- 41.0/123.8 kB 487.6 kB/s eta 0:00:01\n",
      "   ---------------------- ---------------- 71.7/123.8 kB 558.5 kB/s eta 0:00:01\n",
      "   -------------------------------------  122.9/123.8 kB 722.1 kB/s eta 0:00:01\n",
      "   -------------------------------------- 123.8/123.8 kB 660.2 kB/s eta 0:00:00\n",
      "Installing collected packages: urllib3, MarkupSafe, idna, charset-normalizer, certifi, requests, jinja2, branca, folium\n",
      "Successfully installed MarkupSafe-2.1.3 branca-0.6.0 certifi-2023.7.22 charset-normalizer-3.2.0 folium-0.14.0 idna-3.4 jinja2-3.1.2 requests-2.31.0 urllib3-2.0.5\n"
     ]
    }
   ],
   "source": [
    "!pip install folium"
   ]
  },
  {
   "cell_type": "code",
   "execution_count": 1,
   "metadata": {},
   "outputs": [
    {
     "name": "stdout",
     "output_type": "stream",
     "text": [
      "Collecting geopy\n",
      "  Obtaining dependency information for geopy from https://files.pythonhosted.org/packages/e1/58/9289c6a03116025cdb61461d99b2493daa4967a80b13755463d71a0affeb/geopy-2.4.0-py3-none-any.whl.metadata\n",
      "  Downloading geopy-2.4.0-py3-none-any.whl.metadata (6.8 kB)\n",
      "Collecting geographiclib<3,>=1.52 (from geopy)\n",
      "  Downloading geographiclib-2.0-py3-none-any.whl (40 kB)\n",
      "     ---------------------------------------- 0.0/40.3 kB ? eta -:--:--\n",
      "     ---------- ----------------------------- 10.2/40.3 kB ? eta -:--:--\n",
      "     ---------------------------- --------- 30.7/40.3 kB 330.3 kB/s eta 0:00:01\n",
      "     -------------------------------------- 40.3/40.3 kB 323.5 kB/s eta 0:00:00\n",
      "Downloading geopy-2.4.0-py3-none-any.whl (125 kB)\n",
      "   ---------------------------------------- 0.0/125.4 kB ? eta -:--:--\n",
      "   ------------ -------------------------- 41.0/125.4 kB 991.0 kB/s eta 0:00:01\n",
      "   ---------------------------------------  122.9/125.4 kB 1.2 MB/s eta 0:00:01\n",
      "   ---------------------------------------- 125.4/125.4 kB 1.2 MB/s eta 0:00:00\n",
      "Installing collected packages: geographiclib, geopy\n",
      "Successfully installed geographiclib-2.0 geopy-2.4.0\n"
     ]
    }
   ],
   "source": [
    "!pip install geopy"
   ]
  },
  {
   "cell_type": "code",
   "execution_count": 2,
   "metadata": {},
   "outputs": [
    {
     "name": "stderr",
     "output_type": "stream",
     "text": [
      "ERROR: Could not find a version that satisfies the requirement urllib (from versions: none)\n",
      "ERROR: No matching distribution found for urllib\n"
     ]
    }
   ],
   "source": [
    "!pip install urllib"
   ]
  },
  {
   "cell_type": "code",
   "execution_count": 3,
   "metadata": {},
   "outputs": [],
   "source": [
    "from urllib.request import urlopen"
   ]
  },
  {
   "cell_type": "code",
   "execution_count": 4,
   "metadata": {},
   "outputs": [
    {
     "name": "stdout",
     "output_type": "stream",
     "text": [
      "Requirement already satisfied: wordcloud in c:\\users\\thinkpad yoga\\.conda\\envs\\hacktiv8\\lib\\site-packages (1.9.2)\n",
      "Requirement already satisfied: numpy>=1.6.1 in c:\\users\\thinkpad yoga\\.conda\\envs\\hacktiv8\\lib\\site-packages (from wordcloud) (1.26.0)\n",
      "Requirement already satisfied: pillow in c:\\users\\thinkpad yoga\\.conda\\envs\\hacktiv8\\lib\\site-packages (from wordcloud) (10.0.1)\n",
      "Requirement already satisfied: matplotlib in c:\\users\\thinkpad yoga\\.conda\\envs\\hacktiv8\\lib\\site-packages (from wordcloud) (3.8.0)\n",
      "Requirement already satisfied: contourpy>=1.0.1 in c:\\users\\thinkpad yoga\\.conda\\envs\\hacktiv8\\lib\\site-packages (from matplotlib->wordcloud) (1.1.1)\n",
      "Requirement already satisfied: cycler>=0.10 in c:\\users\\thinkpad yoga\\.conda\\envs\\hacktiv8\\lib\\site-packages (from matplotlib->wordcloud) (0.11.0)\n",
      "Requirement already satisfied: fonttools>=4.22.0 in c:\\users\\thinkpad yoga\\.conda\\envs\\hacktiv8\\lib\\site-packages (from matplotlib->wordcloud) (4.42.1)\n",
      "Requirement already satisfied: kiwisolver>=1.0.1 in c:\\users\\thinkpad yoga\\.conda\\envs\\hacktiv8\\lib\\site-packages (from matplotlib->wordcloud) (1.4.5)\n",
      "Requirement already satisfied: packaging>=20.0 in c:\\users\\thinkpad yoga\\.conda\\envs\\hacktiv8\\lib\\site-packages (from matplotlib->wordcloud) (23.0)\n",
      "Requirement already satisfied: pyparsing>=2.3.1 in c:\\users\\thinkpad yoga\\.conda\\envs\\hacktiv8\\lib\\site-packages (from matplotlib->wordcloud) (3.1.1)\n",
      "Requirement already satisfied: python-dateutil>=2.7 in c:\\users\\thinkpad yoga\\.conda\\envs\\hacktiv8\\lib\\site-packages (from matplotlib->wordcloud) (2.8.2)\n",
      "Requirement already satisfied: six>=1.5 in c:\\users\\thinkpad yoga\\.conda\\envs\\hacktiv8\\lib\\site-packages (from python-dateutil>=2.7->matplotlib->wordcloud) (1.16.0)\n"
     ]
    }
   ],
   "source": [
    "!pip install wordcloud"
   ]
  }
 ],
 "metadata": {
  "kernelspec": {
   "display_name": "hacktiv8",
   "language": "python",
   "name": "python3"
  },
  "language_info": {
   "codemirror_mode": {
    "name": "ipython",
    "version": 3
   },
   "file_extension": ".py",
   "mimetype": "text/x-python",
   "name": "python",
   "nbconvert_exporter": "python",
   "pygments_lexer": "ipython3",
   "version": "3.11.4"
  },
  "orig_nbformat": 4
 },
 "nbformat": 4,
 "nbformat_minor": 2
}
